{
  "nbformat": 4,
  "nbformat_minor": 0,
  "metadata": {
    "colab": {
      "provenance": [],
      "collapsed_sections": [],
      "authorship_tag": "ABX9TyPk3Hcjknwvy9HNOWQy1zGJ",
      "include_colab_link": true
    },
    "kernelspec": {
      "name": "python3",
      "display_name": "Python 3"
    },
    "language_info": {
      "name": "python"
    }
  },
  "cells": [
    {
      "cell_type": "markdown",
      "metadata": {
        "id": "view-in-github",
        "colab_type": "text"
      },
      "source": [
        "<a href=\"https://colab.research.google.com/github/teyang-lau/you-only-edit-once/blob/main/scripts/extract_frames.ipynb\" target=\"_parent\"><img src=\"https://colab.research.google.com/assets/colab-badge.svg\" alt=\"Open In Colab\"/></a>"
      ]
    },
    {
      "cell_type": "markdown",
      "source": [
        "Install library requirements to read videos from YouTube. youtube-dl==2020.12.2 allows bypassing the 'dislike counts' bug which causes the code to terminate.\n",
        "\n",
        "Source: https://stackoverflow.com/questions/70297028/i-have-a-problem-with-dislike-error-when-creating-an-pafy-new-url-perhaps-its"
      ],
      "metadata": {
        "id": "MV9NV1Q4_a8Q"
      }
    },
    {
      "cell_type": "code",
      "source": [
        "!pip install -q pafy\n",
        "!pip install -q youtube-dl==2020.12.2"
      ],
      "metadata": {
        "id": "CDoI-nm62mkx"
      },
      "execution_count": 1,
      "outputs": []
    },
    {
      "cell_type": "markdown",
      "source": [
        "Import libraries"
      ],
      "metadata": {
        "id": "ioWcZ1ty_7SC"
      }
    },
    {
      "cell_type": "code",
      "source": [
        "import os\n",
        "import uuid\n",
        "import cv2\n",
        "import pafy\n",
        "import youtube_dl"
      ],
      "metadata": {
        "id": "eshU87KV2TZE"
      },
      "execution_count": 13,
      "outputs": []
    },
    {
      "cell_type": "markdown",
      "source": [
        "Extract frames from video"
      ],
      "metadata": {
        "id": "3x_-OBua_8fO"
      }
    },
    {
      "cell_type": "code",
      "execution_count": 43,
      "metadata": {
        "id": "Bbz2DDti1mHP"
      },
      "outputs": [],
      "source": [
        "def video2frames(video_file, output_path, factor=1, youtube=False):\n",
        "\n",
        "    \"\"\"Extract frames from a video file\n",
        "    \n",
        "    Args:\n",
        "    video_file (str): path to the video\n",
        "    output_path (str): path to output folder for storing extracted frames\n",
        "    factor (int): how many seconds to extract 1 frame. 1 = extract a frame every sec, 2 = extract a frame every 2 secs\n",
        "\n",
        "    \"\"\"\n",
        "    if not os.path.exists(output_path):\n",
        "        os.makedirs(output_path)\n",
        "\n",
        "    if youtube == False:\n",
        "        vid = cv2.VideoCapture(video_file)\n",
        "    \n",
        "    elif youtube == True:\n",
        "        video = pafy.new(video_file)\n",
        "        best = video.getbest(preftype=\"mp4\")\n",
        "        vid = cv2.VideoCapture(best.url)\n",
        "    \n",
        "    fps = round(vid.get(cv2.CAP_PROP_FPS))\n",
        "    print(f'fps: {fps}')\n",
        "    index = 0        \n",
        "    while vid.isOpened():\n",
        "        success, img = vid.read()\n",
        "        if success:\n",
        "            index += 1\n",
        "            # extract every fps frame of the video, multplied by a factor\n",
        "            # factor of 1 = extract a frame every sec, 2 = extract a frame every 2 secs\n",
        "            if index % (fps*factor) == 0:\n",
        "                cv2.imwrite(output_path + '/' + str(uuid.uuid4()) + '_' + str(index) + '.jpg', img)\n",
        "        else:\n",
        "            break\n",
        "    vid.release()\n",
        "    \n",
        "    return "
      ]
    },
    {
      "cell_type": "markdown",
      "source": [
        "Extracting frames from youtube video"
      ],
      "metadata": {
        "id": "sOqACMRk__gz"
      }
    },
    {
      "cell_type": "code",
      "source": [
        "url = \"https://www.youtube.com/watch?v=ptygf0cPtUk\"\n",
        "video2frames(video_file = url,\n",
        "             output_path = './data/extracted_frames_2',\n",
        "             factor = 1,\n",
        "             youtube=True)"
      ],
      "metadata": {
        "id": "ToPIJo_c21rv"
      },
      "execution_count": null,
      "outputs": []
    },
    {
      "cell_type": "code",
      "source": [
        "!zip -r /content/extracted_frames.zip /content/data/extracted_frames"
      ],
      "metadata": {
        "colab": {
          "base_uri": "https://localhost:8080/"
        },
        "id": "NY1nE6-j-qHw",
        "outputId": "654af775-2eb0-41b2-a29b-db1b78526625"
      },
      "execution_count": 48,
      "outputs": [
        {
          "output_type": "stream",
          "name": "stdout",
          "text": [
            "  adding: content/data/extracted_frames_2/ (stored 0%)\n",
            "  adding: content/data/extracted_frames_2/0aa7bff8-8017-40d3-84bb-056e8982496d_1110.jpg (deflated 3%)\n",
            "  adding: content/data/extracted_frames_2/8d75d93c-3b57-44c0-90c1-be6e384c452f_1230.jpg (deflated 2%)\n",
            "  adding: content/data/extracted_frames_2/bda8337a-1197-4214-b9f3-182534d07712_2880.jpg (deflated 0%)\n",
            "  adding: content/data/extracted_frames_2/fb00f503-02e4-4c75-8e14-348fbf5f6a61_480.jpg (deflated 9%)\n",
            "  adding: content/data/extracted_frames_2/904d39f5-032c-4976-bdbc-3c2d61821988_1200.jpg (deflated 0%)\n",
            "  adding: content/data/extracted_frames_2/33fb4dbd-993e-4b32-9a1f-13f684958799_1710.jpg (deflated 2%)\n",
            "  adding: content/data/extracted_frames_2/b93d2999-dccc-47ed-8bec-76217e0232bc_270.jpg (deflated 2%)\n",
            "  adding: content/data/extracted_frames_2/1119aec1-16ce-4d0d-8e49-93684ef371cc_300.jpg (deflated 3%)\n",
            "  adding: content/data/extracted_frames_2/ec593f8c-7d3c-4ae2-a824-32a01c04a5a6_2010.jpg (deflated 1%)\n",
            "  adding: content/data/extracted_frames_2/c30b4e35-6c29-4bb6-b142-36bcc4d546ac_3090.jpg (deflated 0%)\n",
            "  adding: content/data/extracted_frames_2/4114b1fc-68b9-42dc-bc9a-9c4173d06222_90.jpg (deflated 4%)\n",
            "  adding: content/data/extracted_frames_2/23a11d4d-4981-4394-8aea-3269356151ee_2640.jpg (deflated 1%)\n",
            "  adding: content/data/extracted_frames_2/4ae86085-647d-4e46-8c07-fef97c1fe6ec_390.jpg (deflated 10%)\n",
            "  adding: content/data/extracted_frames_2/2f8c0775-2aac-4a2d-b219-48a22b3a2c56_2670.jpg (deflated 1%)\n",
            "  adding: content/data/extracted_frames_2/87aeed33-3b32-4708-8493-0907d5c1c68d_30.jpg (deflated 5%)\n",
            "  adding: content/data/extracted_frames_2/04e8d204-21f4-4a67-a23f-c152a9baecb8_510.jpg (deflated 8%)\n",
            "  adding: content/data/extracted_frames_2/7f5f7a0d-eb9f-4f83-82e3-51b71f886a51_2850.jpg (deflated 0%)\n",
            "  adding: content/data/extracted_frames_2/94e804b5-5eb7-4595-a4fe-40dff966ab27_1500.jpg (deflated 2%)\n",
            "  adding: content/data/extracted_frames_2/6e54383c-6db8-4d18-a8a6-f2ec796aa335_450.jpg (deflated 3%)\n",
            "  adding: content/data/extracted_frames_2/10d0356b-3239-418a-8970-b31c4b332fc3_3120.jpg (deflated 0%)\n",
            "  adding: content/data/extracted_frames_2/b03079de-4d45-45bc-9af0-0a58a6510cb1_1380.jpg (deflated 3%)\n",
            "  adding: content/data/extracted_frames_2/5a6269a2-78a9-4f9f-887c-57396e6065cf_2490.jpg (deflated 2%)\n",
            "  adding: content/data/extracted_frames_2/68519c2d-8270-4120-805a-56bf911d74ac_3060.jpg (deflated 0%)\n",
            "  adding: content/data/extracted_frames_2/a5b81479-e9bf-46e1-b17c-b3e51d98b98c_630.jpg (deflated 18%)\n",
            "  adding: content/data/extracted_frames_2/9b8bcb94-822e-4a3b-8b55-f84f8fdd94b7_2430.jpg (deflated 1%)\n",
            "  adding: content/data/extracted_frames_2/cc4027e6-a484-4699-97fa-a2e132265093_3150.jpg (deflated 0%)\n",
            "  adding: content/data/extracted_frames_2/b04ab994-14d5-4bfa-8155-2b032ddedf8f_1290.jpg (deflated 3%)\n",
            "  adding: content/data/extracted_frames_2/130834be-a46b-4f0f-b22a-a03f044bb64e_960.jpg (deflated 5%)\n",
            "  adding: content/data/extracted_frames_2/6ea682ad-633d-42c5-8e48-1ad0a344e40e_2340.jpg (deflated 1%)\n",
            "  adding: content/data/extracted_frames_2/9b21d85d-3797-459a-82be-fc7ce43132b6_3570.jpg (deflated 1%)\n",
            "  adding: content/data/extracted_frames_2/85c43663-5422-409a-a5d9-e911db3ea17b_660.jpg (deflated 12%)\n",
            "  adding: content/data/extracted_frames_2/271e2293-9272-42e3-b085-89903441c5ea_1140.jpg (deflated 1%)\n",
            "  adding: content/data/extracted_frames_2/4011ed44-c002-4e83-a60d-82a561c5d8c0_870.jpg (deflated 3%)\n",
            "  adding: content/data/extracted_frames_2/13bd860b-6c90-483f-bae2-0bdca8027798_3390.jpg (deflated 0%)\n",
            "  adding: content/data/extracted_frames_2/020180dc-b510-4795-90c4-8938fd113988_1740.jpg (deflated 2%)\n",
            "  adding: content/data/extracted_frames_2/9a13a32e-ecb7-434b-bc7a-7cbc61620e9b_2370.jpg (deflated 2%)\n",
            "  adding: content/data/extracted_frames_2/26898e34-25af-4f43-9b01-0bcb7368f2bf_1620.jpg (deflated 1%)\n",
            "  adding: content/data/extracted_frames_2/dc5a56f2-7268-43ac-b53e-2ab62dff9b2b_2190.jpg (deflated 1%)\n",
            "  adding: content/data/extracted_frames_2/384e80da-8f0c-45f4-b5a6-6793e140c589_60.jpg (deflated 4%)\n",
            "  adding: content/data/extracted_frames_2/85f992f7-4482-4ade-8b41-92453f13ab2b_840.jpg (deflated 4%)\n",
            "  adding: content/data/extracted_frames_2/29cdfa60-4767-4f64-9ca8-5da75cbc54fd_540.jpg (deflated 8%)\n",
            "  adding: content/data/extracted_frames_2/110194e4-96cf-48c7-b7ab-3992c1d83ada_750.jpg (deflated 8%)\n",
            "  adding: content/data/extracted_frames_2/15281452-f6e5-49cb-969e-d4b431829185_3180.jpg (deflated 0%)\n",
            "  adding: content/data/extracted_frames_2/27723b99-db52-4fd1-9ba8-c24fe34c2e1c_1170.jpg (deflated 0%)\n",
            "  adding: content/data/extracted_frames_2/c1504e8b-be12-41f5-a5f0-29fc9dc8e407_2100.jpg (deflated 0%)\n",
            "  adding: content/data/extracted_frames_2/5dd30d63-3b03-4309-b00c-c1bc3ef8a189_420.jpg (deflated 8%)\n",
            "  adding: content/data/extracted_frames_2/46a53120-4429-474f-ae70-e0e556b5fdb2_1590.jpg (deflated 3%)\n",
            "  adding: content/data/extracted_frames_2/500e74e8-4c22-4f0c-882b-467e16c63f22_2070.jpg (deflated 1%)\n",
            "  adding: content/data/extracted_frames_2/f1e2803d-fa44-4483-9c1f-12f4c0e64e62_2160.jpg (deflated 1%)\n",
            "  adding: content/data/extracted_frames_2/e6d8c05a-981e-42bc-bfdb-75f7b6667d92_210.jpg (deflated 4%)\n",
            "  adding: content/data/extracted_frames_2/e5e282fd-d145-4373-ab25-6f2ff233e6b5_990.jpg (deflated 3%)\n",
            "  adding: content/data/extracted_frames_2/dba35d2e-803d-47a5-a520-45a3ee5af35e_2610.jpg (deflated 2%)\n",
            "  adding: content/data/extracted_frames_2/2db883ad-b755-409e-93f9-3ecd3fdcbcb8_3540.jpg (deflated 0%)\n",
            "  adding: content/data/extracted_frames_2/4542a041-ad72-4542-8f00-e5807183436b_2910.jpg (deflated 0%)\n",
            "  adding: content/data/extracted_frames_2/318ecef7-ce9b-43f2-80e3-c9197c4920b3_1890.jpg (deflated 1%)\n",
            "  adding: content/data/extracted_frames_2/f65a40eb-e453-47f6-9ce2-530244154367_2550.jpg (deflated 1%)\n",
            "  adding: content/data/extracted_frames_2/6f07f8a6-d2b9-44b0-bd3e-a6062c0e7072_3510.jpg (deflated 0%)\n",
            "  adding: content/data/extracted_frames_2/66cd6704-b8ed-4e88-a006-bb5d8923516f_180.jpg (deflated 3%)\n",
            "  adding: content/data/extracted_frames_2/fee52007-512b-4986-ab81-4c33c03b94b1_3000.jpg (deflated 0%)\n",
            "  adding: content/data/extracted_frames_2/553ce656-a19c-4451-a9e7-a14d34246688_3420.jpg (deflated 1%)\n",
            "  adding: content/data/extracted_frames_2/9530365e-53f2-4ff1-82ef-bd2268f0870d_3480.jpg (deflated 2%)\n",
            "  adding: content/data/extracted_frames_2/8bd669f4-4392-4de9-9687-8a72b5f762fe_2280.jpg (deflated 2%)\n",
            "  adding: content/data/extracted_frames_2/6f716076-e191-4627-8b4d-ed573a7f92f5_2310.jpg (deflated 2%)\n",
            "  adding: content/data/extracted_frames_2/e4a75999-72d6-46ef-8c87-f8827120805a_1260.jpg (deflated 4%)\n",
            "  adding: content/data/extracted_frames_2/4d0d94eb-16c5-4cf4-96e9-91a10618065b_3330.jpg (deflated 0%)\n",
            "  adding: content/data/extracted_frames_2/00648a64-acc0-4c0d-bf44-090c4ffa0ac6_1650.jpg (deflated 1%)\n",
            "  adding: content/data/extracted_frames_2/c612f949-2095-444d-aa2a-2799a7ae4db4_1470.jpg (deflated 2%)\n",
            "  adding: content/data/extracted_frames_2/9935166e-7d2c-4472-a567-9ad615964102_1080.jpg (deflated 6%)\n",
            "  adding: content/data/extracted_frames_2/8d03962f-9ed8-4f4f-ad85-7ee5eb25d602_3030.jpg (deflated 0%)\n",
            "  adding: content/data/extracted_frames_2/f980a933-ec9e-44fe-b68b-217f4b0df5c5_2250.jpg (deflated 1%)\n",
            "  adding: content/data/extracted_frames_2/7999d993-827c-4e93-9c28-3a6ceacea16c_120.jpg (deflated 5%)\n",
            "  adding: content/data/extracted_frames_2/6addc709-84f9-4ed6-b06f-cd41c11b0db3_810.jpg (deflated 11%)\n",
            "  adding: content/data/extracted_frames_2/0981be94-d491-4290-a002-e4474d563fb4_900.jpg (deflated 9%)\n",
            "  adding: content/data/extracted_frames_2/c96f9065-f6ce-407d-b289-b1f17c829d5a_2580.jpg (deflated 1%)\n",
            "  adding: content/data/extracted_frames_2/595a46c1-a798-4cf0-906e-7332089fc224_1020.jpg (deflated 0%)\n",
            "  adding: content/data/extracted_frames_2/8aa6ec8e-4531-4d19-bc42-113aa45a2dc9_1440.jpg (deflated 2%)\n",
            "  adding: content/data/extracted_frames_2/9bec256e-8c5d-48ba-b144-dbeb0635d0eb_150.jpg (deflated 4%)\n",
            "  adding: content/data/extracted_frames_2/6b526c9f-dfc3-43d8-8403-af3d0cb43a9e_2700.jpg (deflated 2%)\n",
            "  adding: content/data/extracted_frames_2/7a47cbc6-affb-495d-85dc-595e11187cce_2460.jpg (deflated 1%)\n",
            "  adding: content/data/extracted_frames_2/c7c08cfa-3bae-4c96-b3ad-d74ee801f1f2_1920.jpg (deflated 2%)\n",
            "  adding: content/data/extracted_frames_2/2092abc5-6bb3-49e6-bfc2-ba50c9c0bee4_3210.jpg (deflated 1%)\n",
            "  adding: content/data/extracted_frames_2/ed0f28dd-73e2-4e1a-887b-816496deecbe_330.jpg (deflated 3%)\n",
            "  adding: content/data/extracted_frames_2/f452ed55-aed4-4535-a4f1-0642521b7b4b_360.jpg (deflated 7%)\n",
            "  adding: content/data/extracted_frames_2/1fb11935-922f-4df6-a8ca-755f58452392_2730.jpg (deflated 2%)\n",
            "  adding: content/data/extracted_frames_2/cacf64ec-a11b-4480-b09e-0fd747704827_1530.jpg (deflated 3%)\n",
            "  adding: content/data/extracted_frames_2/2420a4d1-9aae-4e8b-8a86-ebb034cb6d56_2790.jpg (deflated 1%)\n",
            "  adding: content/data/extracted_frames_2/c08ae18d-28c9-406a-a7f1-471cc785151f_780.jpg (deflated 7%)\n",
            "  adding: content/data/extracted_frames_2/95751612-dbc3-4a62-91c8-b951f48a5a8e_2040.jpg (deflated 0%)\n",
            "  adding: content/data/extracted_frames_2/48934ed8-2eae-40ea-b3e0-3389d32ceb7d_1680.jpg (deflated 3%)\n",
            "  adding: content/data/extracted_frames_2/641ae3c5-aec5-43c5-abc0-6e3b37135fbc_930.jpg (deflated 3%)\n",
            "  adding: content/data/extracted_frames_2/69ce8918-6087-4187-bfd7-826b8f24081d_1980.jpg (deflated 1%)\n",
            "  adding: content/data/extracted_frames_2/a3ffbe73-4062-485a-9868-02fa66623e77_1350.jpg (deflated 4%)\n",
            "  adding: content/data/extracted_frames_2/96e0b0d4-4e0e-4769-8443-607c2ef27662_720.jpg (deflated 10%)\n",
            "  adding: content/data/extracted_frames_2/c48f5774-13c2-459b-b700-98d343ddd1f0_2130.jpg (deflated 2%)\n",
            "  adding: content/data/extracted_frames_2/816e8139-cc33-4f22-a287-b74a75591d9c_1560.jpg (deflated 5%)\n",
            "  adding: content/data/extracted_frames_2/908a9148-affa-42c2-9dc3-727e3e7a31c6_1410.jpg (deflated 2%)\n",
            "  adding: content/data/extracted_frames_2/50c53745-5b30-4552-8636-f7a8e431641f_3300.jpg (deflated 0%)\n",
            "  adding: content/data/extracted_frames_2/d80e4d18-34a5-4044-ab86-f63548d5c538_1770.jpg (deflated 2%)\n",
            "  adding: content/data/extracted_frames_2/80d3b040-1e92-4e9a-b257-dc5eda545c81_2220.jpg (deflated 1%)\n",
            "  adding: content/data/extracted_frames_2/e214e052-33be-4306-8d12-cc013aadcbed_3270.jpg (deflated 0%)\n",
            "  adding: content/data/extracted_frames_2/26afcf55-6f01-456a-83c1-a13940cca936_2940.jpg (deflated 0%)\n",
            "  adding: content/data/extracted_frames_2/7ff96e97-bd69-4394-9fe4-085536515ad9_1320.jpg (deflated 3%)\n",
            "  adding: content/data/extracted_frames_2/e62a6f5c-fe2f-4388-8988-b3f28dd3d15f_2760.jpg (deflated 0%)\n",
            "  adding: content/data/extracted_frames_2/fdd263df-460a-4bae-9e7b-0701e3684b25_1800.jpg (deflated 3%)\n",
            "  adding: content/data/extracted_frames_2/bb3c5ad9-21a5-41bd-9625-b27b7dd69756_2400.jpg (deflated 1%)\n",
            "  adding: content/data/extracted_frames_2/453f9467-beb8-4314-922d-010fd7a1a6b7_690.jpg (deflated 9%)\n",
            "  adding: content/data/extracted_frames_2/6d1301d2-55e8-4bad-a131-b92ddb8a1b0a_3450.jpg (deflated 0%)\n",
            "  adding: content/data/extracted_frames_2/00c94ec9-2e4d-4445-97b1-72c36b47a33f_2520.jpg (deflated 1%)\n",
            "  adding: content/data/extracted_frames_2/2f033629-bd0e-4deb-ae4f-7c3659f57aec_240.jpg (deflated 3%)\n",
            "  adding: content/data/extracted_frames_2/3755836d-035d-4ad1-8383-66f5bc63627d_2820.jpg (deflated 1%)\n",
            "  adding: content/data/extracted_frames_2/a2645c52-cf58-413b-9eb5-a2f278722661_1950.jpg (deflated 2%)\n",
            "  adding: content/data/extracted_frames_2/ea1ec63e-1f9a-4fea-aa31-9b28aa6c3dcd_3360.jpg (deflated 1%)\n",
            "  adding: content/data/extracted_frames_2/3c702d7b-5ba7-4e8c-87e9-e3fd13a54d15_1860.jpg (deflated 2%)\n",
            "  adding: content/data/extracted_frames_2/4b5876bb-ffe5-4d26-9282-07aae9bbfe25_1830.jpg (deflated 2%)\n",
            "  adding: content/data/extracted_frames_2/cc4e2e54-e2b0-4053-a529-89612204b6da_570.jpg (deflated 8%)\n",
            "  adding: content/data/extracted_frames_2/b47dbd26-6cc1-427a-9750-17b0f981ed37_600.jpg (deflated 6%)\n",
            "  adding: content/data/extracted_frames_2/118e301b-6890-47f1-8ab9-69f8accc38e5_2970.jpg (deflated 0%)\n",
            "  adding: content/data/extracted_frames_2/214e055d-e361-46f1-8eec-7eeb4dfb85da_1050.jpg (deflated 8%)\n",
            "  adding: content/data/extracted_frames_2/b7c3eaf0-e777-4d53-8a80-3862229fbc17_3240.jpg (deflated 1%)\n"
          ]
        }
      ]
    },
    {
      "cell_type": "code",
      "source": [
        "from google.colab import files\n",
        "files.download(\"/content/extracted_frames.zip\")"
      ],
      "metadata": {
        "colab": {
          "base_uri": "https://localhost:8080/",
          "height": 17
        },
        "id": "MFliQ6hq-1Dy",
        "outputId": "40f79e56-a45a-4869-ee61-4ab2ec764603"
      },
      "execution_count": 49,
      "outputs": [
        {
          "output_type": "display_data",
          "data": {
            "text/plain": [
              "<IPython.core.display.Javascript object>"
            ],
            "application/javascript": [
              "\n",
              "    async function download(id, filename, size) {\n",
              "      if (!google.colab.kernel.accessAllowed) {\n",
              "        return;\n",
              "      }\n",
              "      const div = document.createElement('div');\n",
              "      const label = document.createElement('label');\n",
              "      label.textContent = `Downloading \"${filename}\": `;\n",
              "      div.appendChild(label);\n",
              "      const progress = document.createElement('progress');\n",
              "      progress.max = size;\n",
              "      div.appendChild(progress);\n",
              "      document.body.appendChild(div);\n",
              "\n",
              "      const buffers = [];\n",
              "      let downloaded = 0;\n",
              "\n",
              "      const channel = await google.colab.kernel.comms.open(id);\n",
              "      // Send a message to notify the kernel that we're ready.\n",
              "      channel.send({})\n",
              "\n",
              "      for await (const message of channel.messages) {\n",
              "        // Send a message to notify the kernel that we're ready.\n",
              "        channel.send({})\n",
              "        if (message.buffers) {\n",
              "          for (const buffer of message.buffers) {\n",
              "            buffers.push(buffer);\n",
              "            downloaded += buffer.byteLength;\n",
              "            progress.value = downloaded;\n",
              "          }\n",
              "        }\n",
              "      }\n",
              "      const blob = new Blob(buffers, {type: 'application/binary'});\n",
              "      const a = document.createElement('a');\n",
              "      a.href = window.URL.createObjectURL(blob);\n",
              "      a.download = filename;\n",
              "      div.appendChild(a);\n",
              "      a.click();\n",
              "      div.remove();\n",
              "    }\n",
              "  "
            ]
          },
          "metadata": {}
        },
        {
          "output_type": "display_data",
          "data": {
            "text/plain": [
              "<IPython.core.display.Javascript object>"
            ],
            "application/javascript": [
              "download(\"download_088d4843-d290-49a8-bb7c-2c531b42fd79\", \"extracted_frames.zip\", 10729094)"
            ]
          },
          "metadata": {}
        }
      ]
    },
    {
      "cell_type": "markdown",
      "source": [
        "Function to extract frames from multiple videos"
      ],
      "metadata": {
        "id": "_pr1PMlIACwp"
      }
    },
    {
      "cell_type": "code",
      "source": [
        "def multiple_video2frames( video_path, output_path , ignore_prev_vid=False, prev_vid_file=None):\n",
        "\n",
        "    \"\"\"Extract frames from multple videos file\n",
        "    \n",
        "    Args:\n",
        "    video_path (str): path to folder containing all videos\n",
        "    output_path (str): path to output folder for storing extracted frames\n",
        "    ignore_prev_vid (bool): whether to ignore previous vidoes that have been already extracted\n",
        "    prev_vid_file (str): path to text file containing previously extracted video filenames\n",
        "\n",
        "    \"\"\"\n",
        "\n",
        "    vid_count = 0\n",
        "\n",
        "    if ignore_prev_vid:\n",
        "        file = open(prev_vid_file)\n",
        "        text = file.readlines()\n",
        "        prev_vids = {t.rstrip('\\n') : True for t in text} \n",
        "        file.close()\n",
        "        file = open(prev_vid_file, 'a+')\n",
        "\n",
        "    list_videos = os.listdir(video_path)\n",
        "    print('Found {} videos'.format(len(list_videos)))\n",
        "    for video in list_videos:\n",
        "        # skip video if extracted before\n",
        "        if ignore_prev_vid and video in prev_vids:\n",
        "            continue\n",
        "        # read and extract frame\n",
        "        vid_count += 1\n",
        "        print('Extracting Video {}'.format(vid_count))\n",
        "        video_file = video_path + '/' + video\n",
        "        video2frames(video_file, output_path)\n",
        "        # add video name to ignore_prev_vid file\n",
        "        if ignore_prev_vid:\n",
        "            file.write(video + '\\n')\n",
        "\n",
        "    if vid_count > 0: \n",
        "        print('Extraction Completed!')\n",
        "            \n",
        "    return"
      ],
      "metadata": {
        "id": "Uurd-zc561Vn"
      },
      "execution_count": null,
      "outputs": []
    },
    {
      "cell_type": "code",
      "source": [
        "multiple_video2frames('../data/videos', '../data/extracted_frames', '../data/ignore_prev_vid.txt', True)"
      ],
      "metadata": {
        "id": "7dmPaJoZ92qv"
      },
      "execution_count": null,
      "outputs": []
    }
  ]
}