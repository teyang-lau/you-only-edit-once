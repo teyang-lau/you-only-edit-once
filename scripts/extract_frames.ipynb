{
 "cells": [
  {
   "cell_type": "code",
   "execution_count": 32,
   "metadata": {},
   "outputs": [],
   "source": [
    "import os\n",
    "import uuid\n",
    "import cv2"
   ]
  },
  {
   "cell_type": "code",
   "execution_count": 77,
   "metadata": {},
   "outputs": [],
   "source": [
    "def video2frames( video_file, output_path ):\n",
    "\n",
    "    \"\"\"Extract frames from a video file\n",
    "    \n",
    "    Args:\n",
    "    video_file (str): path to the video\n",
    "    output_path (str): path to output folder for storing extracted frames\n",
    "\n",
    "    \"\"\"\n",
    "\n",
    "    if not os.path.exists(output_path):\n",
    "        os.makedirs(output_path)\n",
    "    vid = cv2.VideoCapture(video_file)\n",
    "    fps = round(vid.get(cv2.CAP_PROP_FPS))\n",
    "    index = 0        \n",
    "    while vid.isOpened():\n",
    "        success, img = vid.read()\n",
    "        if success:\n",
    "            index += 1\n",
    "            # extract every fps frame of the video\n",
    "            if index % fps == 0:\n",
    "                cv2.imwrite(output_path + '/' + str(uuid.uuid4()) + '_' + str(index) + '.jpg', img)\n",
    "        else:\n",
    "            break\n",
    "    vid.release()\n",
    "    return\n",
    "\n",
    "def multiple_video2frames( video_path, output_path , ignore_prev_vid=False, prev_vid_file=None):\n",
    "\n",
    "    \"\"\"Extract frames from multple videos file\n",
    "    \n",
    "    Args:\n",
    "    video_path (str): path to folder containing all videos\n",
    "    output_path (str): path to output folder for storing extracted frames\n",
    "    prev_vid_file (str): path to text file containing previously extracted video filenames\n",
    "    ignore_prev_vid (bool): whether to ignore previous vidoes that have been already extracted\n",
    "\n",
    "    \"\"\"\n",
    "\n",
    "    if ignore_prev_vid:\n",
    "        file = open(prev_vid_file)\n",
    "        text = file.readlines()\n",
    "        prev_vids = {t.rstrip('\\n') : True for t in text} \n",
    "        file.close()\n",
    "        file = open(prev_vid_file, 'a+')\n",
    "\n",
    "    list_videos = os.listdir(video_path)\n",
    "    for video in list_videos:\n",
    "        # skip video if extracted before\n",
    "        if ignore_prev_vid and video in prev_vids:\n",
    "                continue\n",
    "        # read and extract frame\n",
    "        video_file = video_path + '/' + video\n",
    "        video2frames(video_file, output_path)\n",
    "        # add video name to ignore_prev_vid file\n",
    "        if ignore_prev_vid:\n",
    "            file.write(video + '\\n')\n",
    "            \n",
    "    return"
   ]
  },
  {
   "cell_type": "code",
   "execution_count": 79,
   "metadata": {},
   "outputs": [],
   "source": [
    "multiple_video2frames('../data/videos', '../data/extracted_frames', '../data/ignore_prev_vid.txt', True)"
   ]
  }
 ],
 "metadata": {
  "kernelspec": {
   "display_name": "Python 3.9.13 (conda)",
   "language": "python",
   "name": "python3"
  },
  "language_info": {
   "codemirror_mode": {
    "name": "ipython",
    "version": 3
   },
   "file_extension": ".py",
   "mimetype": "text/x-python",
   "name": "python",
   "nbconvert_exporter": "python",
   "pygments_lexer": "ipython3",
   "version": "3.9.13"
  },
  "orig_nbformat": 4,
  "vscode": {
   "interpreter": {
    "hash": "15062335ab1e1c5e36bc3b4b5ef319c1ea56ba884112c0bd94ab3d6eee78d9a5"
   }
  }
 },
 "nbformat": 4,
 "nbformat_minor": 2
}
