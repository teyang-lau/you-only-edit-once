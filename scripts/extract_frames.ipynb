{
  "cells": [
    {
      "cell_type": "markdown",
      "metadata": {
        "colab_type": "text",
        "id": "view-in-github"
      },
      "source": [
        "<a href=\"https://colab.research.google.com/github/teyang-lau/you-only-edit-once/blob/main/scripts/extract_frames.ipynb\" target=\"_parent\"><img src=\"https://colab.research.google.com/assets/colab-badge.svg\" alt=\"Open In Colab\"/></a>"
      ]
    },
    {
      "cell_type": "markdown",
      "metadata": {
        "id": "MV9NV1Q4_a8Q"
      },
      "source": [
        "Install library requirements to read videos from YouTube. youtube-dl==2020.12.2 allows bypassing the 'dislike counts' bug which causes the code to terminate.\n",
        "\n",
        "Source: https://stackoverflow.com/questions/70297028/i-have-a-problem-with-dislike-error-when-creating-an-pafy-new-url-perhaps-its"
      ]
    },
    {
      "cell_type": "code",
      "execution_count": 1,
      "metadata": {
        "id": "CDoI-nm62mkx"
      },
      "outputs": [],
      "source": [
        "!pip install -q pafy\n",
        "!pip install -q youtube-dl==2020.12.2"
      ]
    },
    {
      "cell_type": "markdown",
      "metadata": {
        "id": "ioWcZ1ty_7SC"
      },
      "source": [
        "Import libraries"
      ]
    },
    {
      "cell_type": "code",
      "execution_count": 1,
      "metadata": {
        "id": "eshU87KV2TZE"
      },
      "outputs": [],
      "source": [
        "import os\n",
        "import uuid\n",
        "import cv2\n",
        "# import pafy\n",
        "# import youtube_dl"
      ]
    },
    {
      "cell_type": "markdown",
      "metadata": {
        "id": "3x_-OBua_8fO"
      },
      "source": [
        "Extract frames from video"
      ]
    },
    {
      "cell_type": "code",
      "execution_count": 2,
      "metadata": {
        "id": "Bbz2DDti1mHP"
      },
      "outputs": [],
      "source": [
        "def video2frames(video_file, output_path, factor=1, youtube=False):\n",
        "\n",
        "    \"\"\"Extract frames from a video file or youtube link\n",
        "    \n",
        "    Args:\n",
        "    video_file (str): path to the video\n",
        "    output_path (str): path to output folder for storing extracted frames\n",
        "    factor (int): how many seconds to extract 1 frame. 1 = extract a frame every sec, 2 = extract a frame every 2 secs\n",
        "    youtube (bool): whether to get video directly from youtube link\n",
        "\n",
        "    \"\"\"\n",
        "    if not os.path.exists(output_path):\n",
        "        os.makedirs(output_path)\n",
        "\n",
        "    if youtube == False:\n",
        "        vid = cv2.VideoCapture(video_file)\n",
        "    \n",
        "    elif youtube == True:\n",
        "        video = pafy.new(video_file)\n",
        "        best = video.getbest(preftype=\"mp4\")\n",
        "        vid = cv2.VideoCapture(best.url)\n",
        "    \n",
        "    fps = round(vid.get(cv2.CAP_PROP_FPS))\n",
        "    num_frames = int(vid. get(cv2. CAP_PROP_FRAME_COUNT))\n",
        "    index = 0        \n",
        "    while vid.isOpened():\n",
        "        success, img = vid.read()\n",
        "        index += 1\n",
        "        if success:\n",
        "            # extract every fps frame of the video, multplied by a factor\n",
        "            # factor of 1 = extract a frame every sec, 2 = extract a frame every 2 secs\n",
        "            if index % (fps*factor) == 0:\n",
        "                cv2.imwrite(output_path + '/' + str(uuid.uuid4()) + '_' + str(index) + '.jpg', img)\n",
        "        # stop reading at end of video\n",
        "        # need this as some frames return False success, so cannot\n",
        "        # use success to break the while loop\n",
        "        if index > num_frames:\n",
        "            break\n",
        "    vid.release()\n",
        "    \n",
        "    return "
      ]
    },
    {
      "cell_type": "markdown",
      "metadata": {
        "id": "sOqACMRk__gz"
      },
      "source": [
        "Extracting frames from youtube video"
      ]
    },
    {
      "cell_type": "code",
      "execution_count": null,
      "metadata": {
        "id": "ToPIJo_c21rv"
      },
      "outputs": [],
      "source": [
        "url = \"https://www.youtube.com/watch?v=ptygf0cPtUk\"\n",
        "video2frames(video_file = url,\n",
        "             output_path = './data/extracted_frames_2',\n",
        "             factor = 1,\n",
        "             youtube=True)"
      ]
    },
    {
      "cell_type": "code",
      "execution_count": 49,
      "metadata": {
        "colab": {
          "base_uri": "https://localhost:8080/",
          "height": 17
        },
        "id": "MFliQ6hq-1Dy",
        "outputId": "40f79e56-a45a-4869-ee61-4ab2ec764603"
      },
      "outputs": [
        {
          "data": {
            "application/javascript": "\n    async function download(id, filename, size) {\n      if (!google.colab.kernel.accessAllowed) {\n        return;\n      }\n      const div = document.createElement('div');\n      const label = document.createElement('label');\n      label.textContent = `Downloading \"${filename}\": `;\n      div.appendChild(label);\n      const progress = document.createElement('progress');\n      progress.max = size;\n      div.appendChild(progress);\n      document.body.appendChild(div);\n\n      const buffers = [];\n      let downloaded = 0;\n\n      const channel = await google.colab.kernel.comms.open(id);\n      // Send a message to notify the kernel that we're ready.\n      channel.send({})\n\n      for await (const message of channel.messages) {\n        // Send a message to notify the kernel that we're ready.\n        channel.send({})\n        if (message.buffers) {\n          for (const buffer of message.buffers) {\n            buffers.push(buffer);\n            downloaded += buffer.byteLength;\n            progress.value = downloaded;\n          }\n        }\n      }\n      const blob = new Blob(buffers, {type: 'application/binary'});\n      const a = document.createElement('a');\n      a.href = window.URL.createObjectURL(blob);\n      a.download = filename;\n      div.appendChild(a);\n      a.click();\n      div.remove();\n    }\n  ",
            "text/plain": [
              "<IPython.core.display.Javascript object>"
            ]
          },
          "metadata": {},
          "output_type": "display_data"
        },
        {
          "data": {
            "application/javascript": "download(\"download_088d4843-d290-49a8-bb7c-2c531b42fd79\", \"extracted_frames.zip\", 10729094)",
            "text/plain": [
              "<IPython.core.display.Javascript object>"
            ]
          },
          "metadata": {},
          "output_type": "display_data"
        }
      ],
      "source": [
        "from google.colab import files\n",
        "files.download(\"/content/extracted_frames.zip\")"
      ]
    },
    {
      "cell_type": "code",
      "execution_count": 3,
      "metadata": {},
      "outputs": [],
      "source": [
        "video2frames( '../data/videos/GOPR0247.MP4', '../data/extracted_frames/', factor=3 )"
      ]
    },
    {
      "cell_type": "markdown",
      "metadata": {
        "id": "_pr1PMlIACwp"
      },
      "source": [
        "Function to extract frames from multiple videos"
      ]
    },
    {
      "cell_type": "code",
      "execution_count": null,
      "metadata": {
        "id": "Uurd-zc561Vn"
      },
      "outputs": [],
      "source": [
        "def multiple_video2frames( video_path, output_path , ignore_prev_vid=False, prev_vid_file=None):\n",
        "\n",
        "    \"\"\"Extract frames from multple videos file\n",
        "    \n",
        "    Args:\n",
        "    video_path (str): path to folder containing all videos\n",
        "    output_path (str): path to output folder for storing extracted frames\n",
        "    ignore_prev_vid (bool): whether to ignore previous vidoes that have been already extracted\n",
        "    prev_vid_file (str): path to text file containing previously extracted video filenames\n",
        "\n",
        "    \"\"\"\n",
        "\n",
        "    vid_count = 0\n",
        "\n",
        "    if ignore_prev_vid:\n",
        "        file = open(prev_vid_file)\n",
        "        text = file.readlines()\n",
        "        prev_vids = {t.rstrip('\\n') : True for t in text} \n",
        "        file.close()\n",
        "        file = open(prev_vid_file, 'a+')\n",
        "\n",
        "    list_videos = os.listdir(video_path)\n",
        "    print('Found {} videos'.format(len(list_videos)))\n",
        "    for video in list_videos:\n",
        "        # skip video if extracted before\n",
        "        if ignore_prev_vid and video in prev_vids:\n",
        "            continue\n",
        "        # read and extract frame\n",
        "        vid_count += 1\n",
        "        print('Extracting Video {}'.format(vid_count))\n",
        "        video_file = video_path + '/' + video\n",
        "        video2frames(video_file, output_path)\n",
        "        # add video name to ignore_prev_vid file\n",
        "        if ignore_prev_vid:\n",
        "            file.write(video + '\\n')\n",
        "\n",
        "    if vid_count > 0: \n",
        "        print('Extraction Completed!')\n",
        "            \n",
        "    return"
      ]
    },
    {
      "cell_type": "code",
      "execution_count": null,
      "metadata": {
        "id": "7dmPaJoZ92qv"
      },
      "outputs": [],
      "source": [
        "multiple_video2frames('../data/videos', '../data/extracted_frames', '../data/ignore_prev_vid.txt', True)"
      ]
    }
  ],
  "metadata": {
    "colab": {
      "authorship_tag": "ABX9TyPk3Hcjknwvy9HNOWQy1zGJ",
      "collapsed_sections": [],
      "include_colab_link": true,
      "provenance": []
    },
    "kernelspec": {
      "display_name": "Python 3.10.7 ('venv': venv)",
      "language": "python",
      "name": "python3"
    },
    "language_info": {
      "codemirror_mode": {
        "name": "ipython",
        "version": 3
      },
      "file_extension": ".py",
      "mimetype": "text/x-python",
      "name": "python",
      "nbconvert_exporter": "python",
      "pygments_lexer": "ipython3",
      "version": "3.10.7"
    },
    "vscode": {
      "interpreter": {
        "hash": "35d4e6b4fb3df552e3cc73934b237aabcb33438f346e75c5e5ee50789f090e2e"
      }
    }
  },
  "nbformat": 4,
  "nbformat_minor": 0
}
